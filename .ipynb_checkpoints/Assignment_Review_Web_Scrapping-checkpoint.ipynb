{
 "cells": [
  {
   "cell_type": "code",
   "execution_count": 1,
   "id": "200d51ab",
   "metadata": {},
   "outputs": [],
   "source": [
    "# Importing library\n",
    "import pandas as pd\n",
    "import os\n",
    "import glob\n",
    "import warnings\n",
    "warnings.filterwarnings('ignore')\n",
    "import math \n",
    "import mysql.connector as msql"
   ]
  },
  {
   "cell_type": "code",
   "execution_count": 2,
   "id": "c1893e67",
   "metadata": {},
   "outputs": [],
   "source": [
    "# Displaying all columns and rows\n",
    "pd.set_option('display.max_columns',None)\n",
    "pd.set_option('display.max_rows',None)"
   ]
  },
  {
   "cell_type": "code",
   "execution_count": 3,
   "id": "595d0243",
   "metadata": {},
   "outputs": [],
   "source": [
    "# Taking files from define path which are in csv format\n",
    "path = r'C:\\Users\\spjay\\Desktop\\VigaynShaala Sorted\\Assignment Webscraping\\Files'\n",
    "os.chdir(path)\n",
    "file_paths = glob.glob('*.csv')"
   ]
  },
  {
   "cell_type": "code",
   "execution_count": 4,
   "id": "d05b0196",
   "metadata": {},
   "outputs": [],
   "source": [
    "# Create an empty list to store the keywords\n",
    "keywords = []\n",
    "\n",
    "# Create an empty dictionary to store the dataframes\n",
    "dataframes = {}\n",
    "\n",
    "# Iterate through each file path in the list of file paths\n",
    "for file in file_paths:\n",
    "    # Find the starting position of the keyword by searching for 'Assignment_'\n",
    "    start = file.find('Assignment_') + len('Assignment_')\n",
    "    \n",
    "    # Find the ending position of the keyword by searching for '.csv'\n",
    "    end = file.rfind('.csv')\n",
    "    \n",
    "    # Extract the keyword from the file path, removing leading/trailing spaces, and replacing spaces with underscores\n",
    "    keyword = file[start:end].strip().replace(' ', '_')\n",
    "    \n",
    "    # Add the extracted keyword to the list of keywords\n",
    "    keywords.append(keyword)\n",
    "    \n",
    "    # Read the CSV file and store it in a dataframe with the keyword as the key in the dataframes dictionary\n",
    "    dataframes[keyword] = pd.read_csv(file)\n"
   ]
  },
  {
   "cell_type": "code",
   "execution_count": 5,
   "id": "b05bff96",
   "metadata": {},
   "outputs": [
    {
     "data": {
      "text/plain": [
       "['Career_Action_Plan_(CAP)',\n",
       " 'Critical_thinking',\n",
       " 'Masteclass_1_-_Career_Exploration',\n",
       " 'Masterclass_-_Academic_CV_and_Industry_Resume',\n",
       " 'Networking__Build_a_World-Class_LinkedIn_Profile',\n",
       " 'Planning_&_Applying_for_Masters_in_India_&_Abroad',\n",
       " 'RIASEC_personality_test',\n",
       " 'sir',\n",
       " 'SMART_goal',\n",
       " 'SWOT',\n",
       " 'mam333']"
      ]
     },
     "execution_count": 5,
     "metadata": {},
     "output_type": "execute_result"
    }
   ],
   "source": [
    "# List of keyword of our csv file present in our folder\n",
    "keywords"
   ]
  },
  {
   "cell_type": "code",
   "execution_count": 6,
   "id": "f7b4a310",
   "metadata": {},
   "outputs": [],
   "source": [
    "# Iterate through each keyword in the list of keywords\n",
    "for keyword in keywords:\n",
    "    # Assign the corresponding dataframe to a variable with the same name as the keyword\n",
    "    # This is done by using the globals() function to create a new variable in the global namespace\n",
    "    globals()[keyword] = dataframes[keyword]\n",
    "\n",
    "    # We have use golabl function to create dataframe of keyword so it should take name of dataframe as keyword. Like Swot will be name of datafarme."
   ]
  },
  {
   "cell_type": "code",
   "execution_count": 7,
   "id": "511c5075",
   "metadata": {},
   "outputs": [],
   "source": [
    "# Reading Kalpana SHE for STEM Incubator file from Source files\n",
    "Kalpana = pd.read_csv(r'C:\\Users\\spjay\\Desktop\\VigyanShaala\\OneDrive_2023-03-17\\OneDrive_1_3-29-2023\\Kalpana Incubator Jan - Mar 2023 Batch-1679893018819.csv',usecols=['Email'])"
   ]
  },
  {
   "cell_type": "code",
   "execution_count": 8,
   "id": "cd024a47",
   "metadata": {},
   "outputs": [],
   "source": [
    "# Create an empty dataframe to store the final results\n",
    "final_df = pd.DataFrame()\n",
    "\n",
    "# Iterate through each keyword in the list of keywords\n",
    "for keyword in keywords:\n",
    "    # Filter the columns based on specific conditions that is taking column whose name have message in it or email.\n",
    "    filtered_columns = [col for col in globals()[keyword] if ('message' in col) or ('email' in col) or (col == 'status')]\n",
    "    \n",
    "    # Create a new dataframe with the filtered columns\n",
    "    new_df = globals()[keyword][filtered_columns]\n",
    "    \n",
    "    # Handle missing values in the message columns by filling them with empty strings\n",
    "    message_columns = [col for col in new_df.columns if 'message' in col]\n",
    "    new_df[message_columns] = new_df[message_columns].fillna('')\n",
    "    \n",
    "    # Create a new 'Comment' column by joining the values of the 'message' columns for each row\n",
    "    new_df['Comment'] = new_df[message_columns].apply(lambda row: ' '.join(row.values.astype(str)), axis=1)\n",
    "    \n",
    "    # Modify the 'Email' column by removing a specific prefix from the values\n",
    "    new_df['Email'] = new_df['user/email'].str.replace('vigyanshaalainternational1617-', '')\n",
    "    \n",
    "    # Rename the 'status' column to the keyword\n",
    "    new_df = new_df.rename(columns={'status': keyword})\n",
    "    \n",
    "    # Select the desired columns for the new dataframe\n",
    "    selected_columns = ['Email', keyword, 'Comment']\n",
    "    new_df = new_df[selected_columns]\n",
    "    \n",
    "    # Merge the new dataframe with the final dataframe based on the 'Email' column\n",
    "    # If the final dataframe is empty, perform a left merge with the 'Kalpana' dataframe\n",
    "    if final_df.empty:\n",
    "        final_df = pd.merge(Kalpana, new_df, on='Email', how='left')\n",
    "    # If the final dataframe is not empty, perform a left merge with the existing final dataframe\n",
    "    else:\n",
    "        final_df = pd.merge(final_df, new_df, on='Email', how='left')\n"
   ]
  },
  {
   "cell_type": "code",
   "execution_count": 9,
   "id": "4cfe3cfb",
   "metadata": {},
   "outputs": [],
   "source": [
    "# Create a list of columns to assign, excluding 'Email' and columns starting with 'Comment'\n",
    "assign = [col for col in final_df.columns if col != 'Email' and not col.startswith('Comment')]\n"
   ]
  },
  {
   "cell_type": "code",
   "execution_count": 10,
   "id": "ea33abe9",
   "metadata": {},
   "outputs": [],
   "source": [
    "# Remove leading/trailing spaces in the selected columns\n",
    "final_df[assign] = final_df[assign].applymap(lambda x: x.strip() if isinstance(x, str) else x)"
   ]
  },
  {
   "cell_type": "code",
   "execution_count": 11,
   "id": "b79a9dc0",
   "metadata": {},
   "outputs": [
    {
     "data": {
      "text/plain": [
       "array(['rejected', nan, 'reviewed', 'under review'], dtype=object)"
      ]
     },
     "execution_count": 11,
     "metadata": {},
     "output_type": "execute_result"
    }
   ],
   "source": [
    "# To get unique values of dataframe to see what columns it consist to give 'marks'\n",
    "final_df['Masterclass_-_Academic_CV_and_Industry_Resume'].unique()"
   ]
  },
  {
   "cell_type": "code",
   "execution_count": 12,
   "id": "2aa12d23",
   "metadata": {},
   "outputs": [
    {
     "data": {
      "text/plain": [
       "array(['rejected', nan, 'reviewed', 'under review'], dtype=object)"
      ]
     },
     "execution_count": 12,
     "metadata": {},
     "output_type": "execute_result"
    }
   ],
   "source": [
    "# To get unique values of dataframe to see what columns it consist to give 'marks'\n",
    "final_df['SWOT'].unique()"
   ]
  },
  {
   "cell_type": "markdown",
   "id": "03fa3048",
   "metadata": {},
   "source": [
    "### If you get new unique values in our column then add marks to it. such example \"Pass\" then at Please add pass in below dict and give marks to it like replace_dict = {'under review': 30, 'reviewed': 30,'rejected': 80, 'Pass': 100}"
   ]
  },
  {
   "cell_type": "markdown",
   "id": "bbe89a90",
   "metadata": {},
   "source": [
    "# Below you can give marks for Assignment 👇⬇️"
   ]
  },
  {
   "cell_type": "code",
   "execution_count": 13,
   "id": "dbc66946",
   "metadata": {},
   "outputs": [],
   "source": [
    "replace_dict = {'under review': 30, 'reviewed': 30,'rejected': 80}\n"
   ]
  },
  {
   "cell_type": "markdown",
   "id": "0edffa64",
   "metadata": {},
   "source": [
    "# 👆☝️\n"
   ]
  },
  {
   "cell_type": "code",
   "execution_count": 14,
   "id": "b511cfb5",
   "metadata": {},
   "outputs": [],
   "source": [
    "# Replace values in selected columns\n",
    "final_df[assign] = final_df[assign].replace(replace_dict)"
   ]
  },
  {
   "cell_type": "code",
   "execution_count": 15,
   "id": "761908aa",
   "metadata": {},
   "outputs": [],
   "source": [
    "# Convert the selected columns to float\n",
    "final_df[assign] = final_df[assign].astype(float)"
   ]
  },
  {
   "cell_type": "code",
   "execution_count": 16,
   "id": "c06bff39",
   "metadata": {},
   "outputs": [],
   "source": [
    "# Filling NaN Values with zero\n",
    "final_df[assign]=final_df[assign].fillna(0)"
   ]
  },
  {
   "cell_type": "code",
   "execution_count": 17,
   "id": "051e3f0b",
   "metadata": {},
   "outputs": [],
   "source": [
    "# Calculate the sum of selected columns\n",
    "sum_of_scores = final_df[assign].sum(axis=1)\n",
    "\n",
    "# Count the number of selected columns\n",
    "num_of_columns = len(assign)\n",
    "\n",
    "# Calculate the average score\n",
    "final_df['Assignment_Score'] = sum_of_scores / num_of_columns\n"
   ]
  },
  {
   "cell_type": "code",
   "execution_count": 18,
   "id": "72733354",
   "metadata": {},
   "outputs": [],
   "source": [
    "# Rounding Off values of Assignment score to two digits\n",
    "final_df['Assignment_Score']=final_df['Assignment_Score'].round(2)"
   ]
  },
  {
   "cell_type": "code",
   "execution_count": 19,
   "id": "b6cee0aa",
   "metadata": {},
   "outputs": [],
   "source": [
    "# Filling NaN Values with empty\n",
    "final_df=final_df.fillna('')"
   ]
  },
  {
   "cell_type": "code",
   "execution_count": 20,
   "id": "870c38ab",
   "metadata": {},
   "outputs": [
    {
     "data": {
      "text/html": [
       "<div>\n",
       "<style scoped>\n",
       "    .dataframe tbody tr th:only-of-type {\n",
       "        vertical-align: middle;\n",
       "    }\n",
       "\n",
       "    .dataframe tbody tr th {\n",
       "        vertical-align: top;\n",
       "    }\n",
       "\n",
       "    .dataframe thead th {\n",
       "        text-align: right;\n",
       "    }\n",
       "</style>\n",
       "<table border=\"1\" class=\"dataframe\">\n",
       "  <thead>\n",
       "    <tr style=\"text-align: right;\">\n",
       "      <th></th>\n",
       "      <th>Email</th>\n",
       "      <th>Career_Action_Plan_(CAP)</th>\n",
       "      <th>Comment_x</th>\n",
       "      <th>Critical_thinking</th>\n",
       "      <th>Comment_y</th>\n",
       "      <th>Masteclass_1_-_Career_Exploration</th>\n",
       "      <th>Comment_x</th>\n",
       "      <th>Masterclass_-_Academic_CV_and_Industry_Resume</th>\n",
       "      <th>Comment_y</th>\n",
       "      <th>Networking__Build_a_World-Class_LinkedIn_Profile</th>\n",
       "      <th>Comment_x</th>\n",
       "      <th>Planning_&amp;_Applying_for_Masters_in_India_&amp;_Abroad</th>\n",
       "      <th>Comment_y</th>\n",
       "      <th>RIASEC_personality_test</th>\n",
       "      <th>Comment_x</th>\n",
       "      <th>sir</th>\n",
       "      <th>Comment_y</th>\n",
       "      <th>SMART_goal</th>\n",
       "      <th>Comment_x</th>\n",
       "      <th>SWOT</th>\n",
       "      <th>Comment_y</th>\n",
       "      <th>mam333</th>\n",
       "      <th>Comment</th>\n",
       "      <th>Assignment_Score</th>\n",
       "    </tr>\n",
       "  </thead>\n",
       "  <tbody>\n",
       "    <tr>\n",
       "      <th>0</th>\n",
       "      <td>abhiakhilabhiakhil505@gmail.com</td>\n",
       "      <td>80.0</td>\n",
       "      <td>Successfully Submitted File is not opening. Su...</td>\n",
       "      <td>80.0</td>\n",
       "      <td>Successfully Submitted Copied!!</td>\n",
       "      <td>30.0</td>\n",
       "      <td>Successfully Submitted Everything is ok except...</td>\n",
       "      <td>80.0</td>\n",
       "      <td>Successfully Submitted Please take care of the...</td>\n",
       "      <td>80.0</td>\n",
       "      <td>Successfully Submitted Rest all is good! Pleas...</td>\n",
       "      <td>80.0</td>\n",
       "      <td>Successfully Submitted Please submit the Excel...</td>\n",
       "      <td>30.0</td>\n",
       "      <td>Successfully Submitted Well Done. It looks goo...</td>\n",
       "      <td>80.0</td>\n",
       "      <td>Successfully Submitted Be more specific about ...</td>\n",
       "      <td>30.0</td>\n",
       "      <td>Successfully Submitted nice well done</td>\n",
       "      <td>80.0</td>\n",
       "      <td>Successfully Submitted Be more specific about ...</td>\n",
       "      <td>30.0</td>\n",
       "      <td>Successfully Submitted Everything is ok except...</td>\n",
       "      <td>61.82</td>\n",
       "    </tr>\n",
       "    <tr>\n",
       "      <th>1</th>\n",
       "      <td>deepshikhatyagi94@gmail.com</td>\n",
       "      <td>0.0</td>\n",
       "      <td></td>\n",
       "      <td>0.0</td>\n",
       "      <td></td>\n",
       "      <td>0.0</td>\n",
       "      <td></td>\n",
       "      <td>0.0</td>\n",
       "      <td></td>\n",
       "      <td>0.0</td>\n",
       "      <td></td>\n",
       "      <td>0.0</td>\n",
       "      <td></td>\n",
       "      <td>0.0</td>\n",
       "      <td></td>\n",
       "      <td>0.0</td>\n",
       "      <td></td>\n",
       "      <td>0.0</td>\n",
       "      <td></td>\n",
       "      <td>0.0</td>\n",
       "      <td></td>\n",
       "      <td>0.0</td>\n",
       "      <td></td>\n",
       "      <td>0.00</td>\n",
       "    </tr>\n",
       "    <tr>\n",
       "      <th>2</th>\n",
       "      <td>suvarnaanu91@gmail.com</td>\n",
       "      <td>80.0</td>\n",
       "      <td>Successfully Submitted Wrong assignment submit...</td>\n",
       "      <td>80.0</td>\n",
       "      <td>Successfully Submitted Wrong Submission!!!</td>\n",
       "      <td>30.0</td>\n",
       "      <td>Successfully Submitted Everything is ok except...</td>\n",
       "      <td>80.0</td>\n",
       "      <td>Successfully Submitted Please take care of the...</td>\n",
       "      <td>80.0</td>\n",
       "      <td>Successfully Submitted Rest all is good! Pleas...</td>\n",
       "      <td>30.0</td>\n",
       "      <td>Successfully Submitted Approved! Please correc...</td>\n",
       "      <td>30.0</td>\n",
       "      <td>Successfully Submitted Approved!</td>\n",
       "      <td>80.0</td>\n",
       "      <td>Successfully Submitted Think harder with Oppor...</td>\n",
       "      <td>80.0</td>\n",
       "      <td>Successfully Submitted Please don't copy assig...</td>\n",
       "      <td>80.0</td>\n",
       "      <td>Successfully Submitted Think harder with Oppor...</td>\n",
       "      <td>30.0</td>\n",
       "      <td>Successfully Submitted Everything is ok except...</td>\n",
       "      <td>61.82</td>\n",
       "    </tr>\n",
       "    <tr>\n",
       "      <th>3</th>\n",
       "      <td>malasaritha419@gmail.com</td>\n",
       "      <td>80.0</td>\n",
       "      <td>Successfully Submitted Wrong assignment submit...</td>\n",
       "      <td>80.0</td>\n",
       "      <td>Successfully Submitted Wrong Submission!!!</td>\n",
       "      <td>30.0</td>\n",
       "      <td>Successfully Submitted Everything is ok except...</td>\n",
       "      <td>30.0</td>\n",
       "      <td>Successfully Submitted Well Done! Please take ...</td>\n",
       "      <td>80.0</td>\n",
       "      <td>Successfully Submitted Rest all is good! Pleas...</td>\n",
       "      <td>80.0</td>\n",
       "      <td>Successfully Submitted Do not copy!!! Yours is...</td>\n",
       "      <td>30.0</td>\n",
       "      <td>Successfully Submitted Well Done. It looks goo...</td>\n",
       "      <td>80.0</td>\n",
       "      <td>Successfully Submitted  First of all be very s...</td>\n",
       "      <td>80.0</td>\n",
       "      <td>Successfully Submitted don't copy assignment w...</td>\n",
       "      <td>80.0</td>\n",
       "      <td>Successfully Submitted  First of all be very s...</td>\n",
       "      <td>30.0</td>\n",
       "      <td>Successfully Submitted Everything is ok except...</td>\n",
       "      <td>61.82</td>\n",
       "    </tr>\n",
       "    <tr>\n",
       "      <th>4</th>\n",
       "      <td>umeghana77@gmail.com</td>\n",
       "      <td>80.0</td>\n",
       "      <td>Successfully Submitted Re-watch the videos and...</td>\n",
       "      <td>80.0</td>\n",
       "      <td>Successfully Submitted Copied!</td>\n",
       "      <td>30.0</td>\n",
       "      <td>Successfully Submitted You passed this, but yo...</td>\n",
       "      <td>30.0</td>\n",
       "      <td>Successfully Submitted Well Done! Please take ...</td>\n",
       "      <td>80.0</td>\n",
       "      <td>Successfully Submitted Rest all is good! Pleas...</td>\n",
       "      <td>80.0</td>\n",
       "      <td>Successfully Submitted File not Opening. Wrong...</td>\n",
       "      <td>30.0</td>\n",
       "      <td>Successfully Submitted Please write Holland co...</td>\n",
       "      <td>30.0</td>\n",
       "      <td>Successfully Submitted We are unable to open y...</td>\n",
       "      <td>30.0</td>\n",
       "      <td>Successfully Submitted well done \\r\\n</td>\n",
       "      <td>30.0</td>\n",
       "      <td>Successfully Submitted We are unable to open y...</td>\n",
       "      <td>30.0</td>\n",
       "      <td>Successfully Submitted You passed this, but yo...</td>\n",
       "      <td>48.18</td>\n",
       "    </tr>\n",
       "  </tbody>\n",
       "</table>\n",
       "</div>"
      ],
      "text/plain": [
       "                             Email  Career_Action_Plan_(CAP)  \\\n",
       "0  abhiakhilabhiakhil505@gmail.com                      80.0   \n",
       "1      deepshikhatyagi94@gmail.com                       0.0   \n",
       "2           suvarnaanu91@gmail.com                      80.0   \n",
       "3         malasaritha419@gmail.com                      80.0   \n",
       "4             umeghana77@gmail.com                      80.0   \n",
       "\n",
       "                                           Comment_x  Critical_thinking  \\\n",
       "0  Successfully Submitted File is not opening. Su...               80.0   \n",
       "1                                                                   0.0   \n",
       "2  Successfully Submitted Wrong assignment submit...               80.0   \n",
       "3  Successfully Submitted Wrong assignment submit...               80.0   \n",
       "4  Successfully Submitted Re-watch the videos and...               80.0   \n",
       "\n",
       "                                     Comment_y  \\\n",
       "0             Successfully Submitted Copied!!    \n",
       "1                                                \n",
       "2  Successfully Submitted Wrong Submission!!!    \n",
       "3  Successfully Submitted Wrong Submission!!!    \n",
       "4              Successfully Submitted Copied!    \n",
       "\n",
       "   Masteclass_1_-_Career_Exploration  \\\n",
       "0                               30.0   \n",
       "1                                0.0   \n",
       "2                               30.0   \n",
       "3                               30.0   \n",
       "4                               30.0   \n",
       "\n",
       "                                           Comment_x  \\\n",
       "0  Successfully Submitted Everything is ok except...   \n",
       "1                                                      \n",
       "2  Successfully Submitted Everything is ok except...   \n",
       "3  Successfully Submitted Everything is ok except...   \n",
       "4  Successfully Submitted You passed this, but yo...   \n",
       "\n",
       "   Masterclass_-_Academic_CV_and_Industry_Resume  \\\n",
       "0                                           80.0   \n",
       "1                                            0.0   \n",
       "2                                           80.0   \n",
       "3                                           30.0   \n",
       "4                                           30.0   \n",
       "\n",
       "                                           Comment_y  \\\n",
       "0  Successfully Submitted Please take care of the...   \n",
       "1                                                      \n",
       "2  Successfully Submitted Please take care of the...   \n",
       "3  Successfully Submitted Well Done! Please take ...   \n",
       "4  Successfully Submitted Well Done! Please take ...   \n",
       "\n",
       "   Networking__Build_a_World-Class_LinkedIn_Profile  \\\n",
       "0                                              80.0   \n",
       "1                                               0.0   \n",
       "2                                              80.0   \n",
       "3                                              80.0   \n",
       "4                                              80.0   \n",
       "\n",
       "                                           Comment_x  \\\n",
       "0  Successfully Submitted Rest all is good! Pleas...   \n",
       "1                                                      \n",
       "2  Successfully Submitted Rest all is good! Pleas...   \n",
       "3  Successfully Submitted Rest all is good! Pleas...   \n",
       "4  Successfully Submitted Rest all is good! Pleas...   \n",
       "\n",
       "   Planning_&_Applying_for_Masters_in_India_&_Abroad  \\\n",
       "0                                               80.0   \n",
       "1                                                0.0   \n",
       "2                                               30.0   \n",
       "3                                               80.0   \n",
       "4                                               80.0   \n",
       "\n",
       "                                           Comment_y  RIASEC_personality_test  \\\n",
       "0  Successfully Submitted Please submit the Excel...                     30.0   \n",
       "1                                                                         0.0   \n",
       "2  Successfully Submitted Approved! Please correc...                     30.0   \n",
       "3  Successfully Submitted Do not copy!!! Yours is...                     30.0   \n",
       "4  Successfully Submitted File not Opening. Wrong...                     30.0   \n",
       "\n",
       "                                           Comment_x   sir  \\\n",
       "0  Successfully Submitted Well Done. It looks goo...  80.0   \n",
       "1                                                      0.0   \n",
       "2               Successfully Submitted Approved!      80.0   \n",
       "3  Successfully Submitted Well Done. It looks goo...  80.0   \n",
       "4  Successfully Submitted Please write Holland co...  30.0   \n",
       "\n",
       "                                           Comment_y  SMART_goal  \\\n",
       "0  Successfully Submitted Be more specific about ...        30.0   \n",
       "1                                                            0.0   \n",
       "2  Successfully Submitted Think harder with Oppor...        80.0   \n",
       "3  Successfully Submitted  First of all be very s...        80.0   \n",
       "4  Successfully Submitted We are unable to open y...        30.0   \n",
       "\n",
       "                                           Comment_x  SWOT  \\\n",
       "0       Successfully Submitted nice well done         80.0   \n",
       "1                                                      0.0   \n",
       "2  Successfully Submitted Please don't copy assig...  80.0   \n",
       "3  Successfully Submitted don't copy assignment w...  80.0   \n",
       "4        Successfully Submitted well done \\r\\n        30.0   \n",
       "\n",
       "                                           Comment_y  mam333  \\\n",
       "0  Successfully Submitted Be more specific about ...    30.0   \n",
       "1                                                        0.0   \n",
       "2  Successfully Submitted Think harder with Oppor...    30.0   \n",
       "3  Successfully Submitted  First of all be very s...    30.0   \n",
       "4  Successfully Submitted We are unable to open y...    30.0   \n",
       "\n",
       "                                             Comment  Assignment_Score  \n",
       "0  Successfully Submitted Everything is ok except...             61.82  \n",
       "1                                                                 0.00  \n",
       "2  Successfully Submitted Everything is ok except...             61.82  \n",
       "3  Successfully Submitted Everything is ok except...             61.82  \n",
       "4  Successfully Submitted You passed this, but yo...             48.18  "
      ]
     },
     "execution_count": 20,
     "metadata": {},
     "output_type": "execute_result"
    }
   ],
   "source": [
    "# Checking our data\n",
    "final_df.head()"
   ]
  },
  {
   "cell_type": "code",
   "execution_count": 21,
   "id": "48056999",
   "metadata": {},
   "outputs": [],
   "source": [
    "# Iterate through all columns in the dataframe\n",
    "for col in final_df.columns:\n",
    "    # Check if column name contains '.'\n",
    "    if '.' in col:\n",
    "        # Replace '.' with '_' and remove ' ' only where '.' is present in the column name\n",
    "        new_col = col.replace('.', '_').replace(' ', '') if '.' in col else col\n",
    "        # Rename the column\n",
    "        df.rename(columns={col: new_col}, inplace=True)\n"
   ]
  },
  {
   "cell_type": "code",
   "execution_count": 22,
   "id": "16cf7493",
   "metadata": {
    "scrolled": true
   },
   "outputs": [
    {
     "data": {
      "text/plain": [
       "Index(['Email', 'Career_Action_Plan_(CAP)', 'Comment_x', 'Critical_thinking',\n",
       "       'Comment_y', 'Masteclass_1_-_Career_Exploration', 'Comment_x',\n",
       "       'Masterclass_-_Academic_CV_and_Industry_Resume', 'Comment_y',\n",
       "       'Networking__Build_a_World-Class_LinkedIn_Profile', 'Comment_x',\n",
       "       'Planning_&_Applying_for_Masters_in_India_&_Abroad', 'Comment_y',\n",
       "       'RIASEC_personality_test', 'Comment_x', 'sir', 'Comment_y',\n",
       "       'SMART_goal', 'Comment_x', 'SWOT', 'Comment_y', 'mam333', 'Comment',\n",
       "       'Assignment_Score'],\n",
       "      dtype='object')"
      ]
     },
     "execution_count": 22,
     "metadata": {},
     "output_type": "execute_result"
    }
   ],
   "source": [
    "# Cheaking the columns present in the dataframe\n",
    "final_df.columns"
   ]
  },
  {
   "cell_type": "markdown",
   "id": "8fcdd10a",
   "metadata": {},
   "source": [
    "### The step remaing here is renaming i.e while putting to our mysql"
   ]
  },
  {
   "cell_type": "code",
   "execution_count": 23,
   "id": "0bccbbc4",
   "metadata": {},
   "outputs": [],
   "source": [
    "# Removing 'x' and 'y' from comment\n",
    "final_df.columns = final_df.columns.str.replace(r'Comment_[xy]', 'Comment')\n"
   ]
  },
  {
   "cell_type": "code",
   "execution_count": 24,
   "id": "397e1109",
   "metadata": {},
   "outputs": [
    {
     "data": {
      "text/plain": [
       "Index(['Email', 'Career_Action_Plan_(CAP)', 'Comment', 'Critical_thinking',\n",
       "       'Comment', 'Masteclass_1_-_Career_Exploration', 'Comment',\n",
       "       'Masterclass_-_Academic_CV_and_Industry_Resume', 'Comment',\n",
       "       'Networking__Build_a_World-Class_LinkedIn_Profile', 'Comment',\n",
       "       'Planning_&_Applying_for_Masters_in_India_&_Abroad', 'Comment',\n",
       "       'RIASEC_personality_test', 'Comment', 'sir', 'Comment', 'SMART_goal',\n",
       "       'Comment', 'SWOT', 'Comment', 'mam333', 'Comment', 'Assignment_Score'],\n",
       "      dtype='object')"
      ]
     },
     "execution_count": 24,
     "metadata": {},
     "output_type": "execute_result"
    }
   ],
   "source": [
    "final_df.columns"
   ]
  },
  {
   "cell_type": "code",
   "execution_count": 25,
   "id": "d82b20a9",
   "metadata": {},
   "outputs": [],
   "source": [
    "# Renaming the column to put in datafarme \n",
    "new_names = {\n",
    "    'SWOT': 'WK_1_SWOT_Analysis',\n",
    "    'Career_Action_Plan_(CAP)': 'WK_3_Career_Action_Plan',\n",
    "    'Critical_thinking': 'WK_6_Critical_thinking',\n",
    "    'Masteclass_1_-_Career_Exploration': 'MC_Career_Exploration',\n",
    "    'Masterclass_-_Academic_CV_and_Industry_Resume': 'MC_CV_Resume',\n",
    "    'Networking__Build_a_World-Class_LinkedIn_Profile': 'MC_LinkedIn_Profile',\n",
    "    'Planning_&_Applying_for_Masters_in_India_&_Abroad': 'MC_Planning_Masters',\n",
    "    'RIASEC_personality_test': 'WK_2_RIASEC',\n",
    "    'SMART_goal': 'WK_2_SMART_goal'\n",
    "}\n",
    "\n",
    "for col in final_df.columns:\n",
    "    if col in new_names:\n",
    "        final_df.rename(columns={col: new_names[col]}, inplace=True)\n"
   ]
  },
  {
   "cell_type": "code",
   "execution_count": 26,
   "id": "4c38ce43",
   "metadata": {},
   "outputs": [
    {
     "data": {
      "text/plain": [
       "Index(['Email', 'WK_3_Career_Action_Plan', 'Comment', 'WK_6_Critical_thinking',\n",
       "       'Comment', 'MC_Career_Exploration', 'Comment', 'MC_CV_Resume',\n",
       "       'Comment', 'MC_LinkedIn_Profile', 'Comment', 'MC_Planning_Masters',\n",
       "       'Comment', 'WK_2_RIASEC', 'Comment', 'sir', 'Comment',\n",
       "       'WK_2_SMART_goal', 'Comment', 'WK_1_SWOT_Analysis', 'Comment', 'mam333',\n",
       "       'Comment', 'Assignment_Score'],\n",
       "      dtype='object')"
      ]
     },
     "execution_count": 26,
     "metadata": {},
     "output_type": "execute_result"
    }
   ],
   "source": [
    "final_df.columns"
   ]
  },
  {
   "cell_type": "code",
   "execution_count": 27,
   "id": "3cb7078d",
   "metadata": {},
   "outputs": [],
   "source": [
    "# Renaming the 'comment' in our given format\n",
    "cols = final_df.columns.tolist()\n",
    "new_cols = []\n",
    "prev_col = ''\n",
    "\n",
    "for col in cols:\n",
    "    if col == 'Comment':\n",
    "        new_cols.append(f'Comments_{prev_col}')\n",
    "    else:\n",
    "        new_cols.append(col)\n",
    "    prev_col = col\n",
    "\n",
    "final_df.columns = new_cols\n"
   ]
  },
  {
   "cell_type": "code",
   "execution_count": 28,
   "id": "ec422198",
   "metadata": {},
   "outputs": [
    {
     "data": {
      "text/plain": [
       "Index(['Email', 'WK_3_Career_Action_Plan', 'Comments_WK_3_Career_Action_Plan',\n",
       "       'WK_6_Critical_thinking', 'Comments_WK_6_Critical_thinking',\n",
       "       'MC_Career_Exploration', 'Comments_MC_Career_Exploration',\n",
       "       'MC_CV_Resume', 'Comments_MC_CV_Resume', 'MC_LinkedIn_Profile',\n",
       "       'Comments_MC_LinkedIn_Profile', 'MC_Planning_Masters',\n",
       "       'Comments_MC_Planning_Masters', 'WK_2_RIASEC', 'Comments_WK_2_RIASEC',\n",
       "       'sir', 'Comments_sir', 'WK_2_SMART_goal', 'Comments_WK_2_SMART_goal',\n",
       "       'WK_1_SWOT_Analysis', 'Comments_WK_1_SWOT_Analysis', 'mam333',\n",
       "       'Comments_mam333', 'Assignment_Score'],\n",
       "      dtype='object')"
      ]
     },
     "execution_count": 28,
     "metadata": {},
     "output_type": "execute_result"
    }
   ],
   "source": [
    "final_df.columns"
   ]
  },
  {
   "cell_type": "code",
   "execution_count": null,
   "id": "442fc611",
   "metadata": {},
   "outputs": [],
   "source": []
  },
  {
   "cell_type": "code",
   "execution_count": 29,
   "id": "cd1a0341",
   "metadata": {},
   "outputs": [],
   "source": [
    "# Connecting to MySQL Database\n",
    "conn= msql.connect(host='localhost',user='root',password=\"11042001\",database=\"kalpana\",auth_plugin='mysql_native_password')\n",
    "cursor =conn.cursor()"
   ]
  },
  {
   "cell_type": "code",
   "execution_count": 30,
   "id": "f8c0e482",
   "metadata": {},
   "outputs": [],
   "source": [
    "\n",
    "# Get the existing columns in the database\n",
    "cursor.execute(\"SHOW COLUMNS FROM kalpana.11_incubator_assignment_monitoring\")\n",
    "existing_columns = [col[0] for col in cursor.fetchall()]\n",
    "\n",
    "# Define the column name before which the new column should be added\n",
    "target_column = 'Assignment_Score'\n",
    "\n",
    "# Check if any new columns exist in the dataframe but not in the database\n",
    "new_columns = [col for col in final_df.columns if col not in existing_columns]\n",
    "if new_columns:\n",
    "    # Add new columns to the database before the target column\n",
    "    for col in reversed(new_columns):\n",
    "        if col not in existing_columns:\n",
    "            # Get the index of the target column\n",
    "            target_column_index = existing_columns.index(target_column)\n",
    "            # Set the data type based on whether the column name starts with Comment\n",
    "            data_type = \"INT\" if not col.startswith(\"Comment\") else \"TEXT\"\n",
    "            alter_query = f\"ALTER TABLE kalpana.11_incubator_assignment_monitoring ADD COLUMN {col} {data_type} AFTER {existing_columns[target_column_index - 1]}\"\n",
    "            cursor.execute(alter_query)\n",
    "            existing_columns.insert(target_column_index - 1, col)\n"
   ]
  },
  {
   "cell_type": "code",
   "execution_count": 31,
   "id": "edb568b7",
   "metadata": {},
   "outputs": [],
   "source": [
    "# Your existing code for inserting data into the database table\n",
    "for i, row in final_df.iterrows():\n",
    "    row = [None if isinstance(val, float) and math.isnan(val) else val for val in row] # replace \"nan\" values with None\n",
    "    columns = ','.join(final_df.columns)\n",
    "    placeholders = ','.join(['%s']*len(row))\n",
    "    # Construct the INSERT query with ON DUPLICATE KEY UPDATE clause\n",
    "    query = f\"INSERT INTO kalpana.11_incubator_assignment_monitoring ({columns}) VALUES ({placeholders}) ON DUPLICATE KEY UPDATE \"\n",
    "    query += \", \".join([f\"{col}=VALUES({col})\" for col in final_df.columns if col != 'Email'])\n",
    "    # Execute the query\n",
    "    cursor.execute(query, tuple(row))\n"
   ]
  },
  {
   "cell_type": "code",
   "execution_count": 32,
   "id": "e2de36e3",
   "metadata": {},
   "outputs": [],
   "source": [
    "conn.commit()"
   ]
  },
  {
   "cell_type": "code",
   "execution_count": null,
   "id": "3c72d501",
   "metadata": {},
   "outputs": [],
   "source": []
  }
 ],
 "metadata": {
  "kernelspec": {
   "display_name": "Python 3 (ipykernel)",
   "language": "python",
   "name": "python3"
  },
  "language_info": {
   "codemirror_mode": {
    "name": "ipython",
    "version": 3
   },
   "file_extension": ".py",
   "mimetype": "text/x-python",
   "name": "python",
   "nbconvert_exporter": "python",
   "pygments_lexer": "ipython3",
   "version": "3.8.5"
  },
  "varInspector": {
   "cols": {
    "lenName": 16,
    "lenType": 16,
    "lenVar": 40
   },
   "kernels_config": {
    "python": {
     "delete_cmd_postfix": "",
     "delete_cmd_prefix": "del ",
     "library": "var_list.py",
     "varRefreshCmd": "print(var_dic_list())"
    },
    "r": {
     "delete_cmd_postfix": ") ",
     "delete_cmd_prefix": "rm(",
     "library": "var_list.r",
     "varRefreshCmd": "cat(var_dic_list()) "
    }
   },
   "types_to_exclude": [
    "module",
    "function",
    "builtin_function_or_method",
    "instance",
    "_Feature"
   ],
   "window_display": false
  }
 },
 "nbformat": 4,
 "nbformat_minor": 5
}
